import pandas as pd

FILE = 'dataFiles\\banklist.csv'

PATH = '20220930.csv'
df = pd.read_csv(PATH , encoding='cp949')
print(f'bankDF====>\n{df}')
df.info()
print(df.head(50))
