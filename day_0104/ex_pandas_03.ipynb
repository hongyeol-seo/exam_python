{
 "cells": [
  {
   "cell_type": "code",
   "execution_count": 3,
   "metadata": {},
   "outputs": [],
   "source": [
    "import pandas as pd"
   ]
  },
  {
   "cell_type": "code",
   "execution_count": 6,
   "metadata": {},
   "outputs": [],
   "source": [
    "FILE = '../dataFiles/auto-mpg.csv'\n",
    "# mpgDF =pd.read_csv(FILE,header=None,dtype={3:'float'})\n",
    "mpgDF =pd.read_csv(FILE,header=None)"
   ]
  },
  {
   "cell_type": "code",
   "execution_count": 7,
   "metadata": {},
   "outputs": [
    {
     "name": "stdout",
     "output_type": "stream",
     "text": [
      "<class 'pandas.core.frame.DataFrame'>\n",
      "RangeIndex: 398 entries, 0 to 397\n",
      "Data columns (total 9 columns):\n",
      " #   Column  Non-Null Count  Dtype  \n",
      "---  ------  --------------  -----  \n",
      " 0   0       398 non-null    float64\n",
      " 1   1       398 non-null    int64  \n",
      " 2   2       398 non-null    float64\n",
      " 3   3       398 non-null    object \n",
      " 4   4       398 non-null    float64\n",
      " 5   5       398 non-null    float64\n",
      " 6   6       398 non-null    int64  \n",
      " 7   7       398 non-null    int64  \n",
      " 8   8       398 non-null    object \n",
      "dtypes: float64(4), int64(3), object(2)\n",
      "memory usage: 28.1+ KB\n"
     ]
    }
   ],
   "source": [
    "# 데이터 확인\n",
    "mpgDF.info()"
   ]
  },
  {
   "cell_type": "code",
   "execution_count": 8,
   "metadata": {},
   "outputs": [
    {
     "data": {
      "text/html": [
       "<div>\n",
       "<style scoped>\n",
       "    .dataframe tbody tr th:only-of-type {\n",
       "        vertical-align: middle;\n",
       "    }\n",
       "\n",
       "    .dataframe tbody tr th {\n",
       "        vertical-align: top;\n",
       "    }\n",
       "\n",
       "    .dataframe thead th {\n",
       "        text-align: right;\n",
       "    }\n",
       "</style>\n",
       "<table border=\"1\" class=\"dataframe\">\n",
       "  <thead>\n",
       "    <tr style=\"text-align: right;\">\n",
       "      <th></th>\n",
       "      <th>0</th>\n",
       "      <th>1</th>\n",
       "      <th>2</th>\n",
       "      <th>3</th>\n",
       "      <th>4</th>\n",
       "      <th>5</th>\n",
       "      <th>6</th>\n",
       "      <th>7</th>\n",
       "      <th>8</th>\n",
       "    </tr>\n",
       "  </thead>\n",
       "  <tbody>\n",
       "    <tr>\n",
       "      <th>0</th>\n",
       "      <td>18.0</td>\n",
       "      <td>8</td>\n",
       "      <td>307.0</td>\n",
       "      <td>76.0</td>\n",
       "      <td>3504.0</td>\n",
       "      <td>12.0</td>\n",
       "      <td>70</td>\n",
       "      <td>1</td>\n",
       "      <td>chevrolet chevelle malibu</td>\n",
       "    </tr>\n",
       "    <tr>\n",
       "      <th>1</th>\n",
       "      <td>15.0</td>\n",
       "      <td>8</td>\n",
       "      <td>350.0</td>\n",
       "      <td>77.0</td>\n",
       "      <td>3693.0</td>\n",
       "      <td>11.5</td>\n",
       "      <td>70</td>\n",
       "      <td>1</td>\n",
       "      <td>buick skylark 320</td>\n",
       "    </tr>\n",
       "    <tr>\n",
       "      <th>2</th>\n",
       "      <td>18.0</td>\n",
       "      <td>8</td>\n",
       "      <td>318.0</td>\n",
       "      <td>230.0</td>\n",
       "      <td>3436.0</td>\n",
       "      <td>11.0</td>\n",
       "      <td>70</td>\n",
       "      <td>1</td>\n",
       "      <td>plymouth satellite</td>\n",
       "    </tr>\n",
       "    <tr>\n",
       "      <th>3</th>\n",
       "      <td>16.0</td>\n",
       "      <td>8</td>\n",
       "      <td>304.0</td>\n",
       "      <td>46.0</td>\n",
       "      <td>3433.0</td>\n",
       "      <td>12.0</td>\n",
       "      <td>70</td>\n",
       "      <td>1</td>\n",
       "      <td>amc rebel sst</td>\n",
       "    </tr>\n",
       "    <tr>\n",
       "      <th>4</th>\n",
       "      <td>17.0</td>\n",
       "      <td>8</td>\n",
       "      <td>302.0</td>\n",
       "      <td>78.0</td>\n",
       "      <td>3449.0</td>\n",
       "      <td>10.5</td>\n",
       "      <td>70</td>\n",
       "      <td>1</td>\n",
       "      <td>ford torino</td>\n",
       "    </tr>\n",
       "  </tbody>\n",
       "</table>\n",
       "</div>"
      ],
      "text/plain": [
       "      0  1      2      3       4     5   6  7                          8\n",
       "0  18.0  8  307.0   76.0  3504.0  12.0  70  1  chevrolet chevelle malibu\n",
       "1  15.0  8  350.0   77.0  3693.0  11.5  70  1          buick skylark 320\n",
       "2  18.0  8  318.0  230.0  3436.0  11.0  70  1         plymouth satellite\n",
       "3  16.0  8  304.0   46.0  3433.0  12.0  70  1              amc rebel sst\n",
       "4  17.0  8  302.0   78.0  3449.0  10.5  70  1                ford torino"
      ]
     },
     "execution_count": 8,
     "metadata": {},
     "output_type": "execute_result"
    }
   ],
   "source": [
    "mpgDF.head()"
   ]
  },
  {
   "cell_type": "code",
   "execution_count": 9,
   "metadata": {},
   "outputs": [],
   "source": [
    "# 컬럼별 고유값과 값의 갯수 파악\n",
    "# =================================\n",
    "# 고유값 => 컬럼마다 데이터 종류 DF.unique() / SR.unique()\n",
    "# 데이터 종류의 수 = > DF.value_counts(), SR.value_counts()\n",
    "mpgDF.columns =['mpg', 'cylinders' ,'displacement', 'horsepower', 'weight', 'acceleration', 'model_year', 'origin', 'car_name']\n"
   ]
  },
  {
   "cell_type": "code",
   "execution_count": null,
   "metadata": {},
   "outputs": [],
   "source": [
    "for col in mpgDF.columns:\n",
    "    print(f'\\n--[{col}] -------')\n",
    "    print(f'고유값\\n{mpgDF[col].unique()}')\n",
    "    print(f'값의 갯수\\n{mpgDF[col].value_counts()}\\n')"
   ]
  },
  {
   "cell_type": "code",
   "execution_count": null,
   "metadata": {},
   "outputs": [],
   "source": [
    "#horsepower 컬럼에 이상한 값 '?' 이 존재 => 실수 문자열 '실수'\n",
    "#데이터를 변경해주는 메서드 => DF.replace(), SR.replace()\n",
    "\n",
    "mpgDF.horsepower.replace('?',\"0.0\",inplace=True)\n",
    "# mpgDF.horsepower.unique()\n",
    "mpgDF.horsepower.value_counts()\n",
    "# mpgDF.horsepower.value_counts()['0.0']\n",
    "\n",
    "# mpgDF.horsepower.value_counts()\n",
    "# horseValueCount = mpgDF.horsepower.value_counts()\n",
    "# print(horseValueCount['?']) #? 시리즈 안에 있느것 찾기\n"
   ]
  },
  {
   "cell_type": "code",
   "execution_count": 35,
   "metadata": {},
   "outputs": [
    {
     "data": {
      "text/html": [
       "<div>\n",
       "<style scoped>\n",
       "    .dataframe tbody tr th:only-of-type {\n",
       "        vertical-align: middle;\n",
       "    }\n",
       "\n",
       "    .dataframe tbody tr th {\n",
       "        vertical-align: top;\n",
       "    }\n",
       "\n",
       "    .dataframe thead th {\n",
       "        text-align: right;\n",
       "    }\n",
       "</style>\n",
       "<table border=\"1\" class=\"dataframe\">\n",
       "  <thead>\n",
       "    <tr style=\"text-align: right;\">\n",
       "      <th></th>\n",
       "      <th>mpg</th>\n",
       "      <th>cylinders</th>\n",
       "      <th>displacement</th>\n",
       "      <th>horsepower</th>\n",
       "      <th>weight</th>\n",
       "      <th>acceleration</th>\n",
       "      <th>model_year</th>\n",
       "      <th>origin</th>\n",
       "      <th>car_name</th>\n",
       "    </tr>\n",
       "  </thead>\n",
       "  <tbody>\n",
       "    <tr>\n",
       "      <th>0</th>\n",
       "      <td>18.0</td>\n",
       "      <td>8</td>\n",
       "      <td>307.0</td>\n",
       "      <td>76.0</td>\n",
       "      <td>3504.0</td>\n",
       "      <td>12.0</td>\n",
       "      <td>70</td>\n",
       "      <td>1</td>\n",
       "      <td>chevrolet chevelle malibu</td>\n",
       "    </tr>\n",
       "    <tr>\n",
       "      <th>1</th>\n",
       "      <td>15.0</td>\n",
       "      <td>8</td>\n",
       "      <td>350.0</td>\n",
       "      <td>77.0</td>\n",
       "      <td>3693.0</td>\n",
       "      <td>11.5</td>\n",
       "      <td>70</td>\n",
       "      <td>1</td>\n",
       "      <td>buick skylark 320</td>\n",
       "    </tr>\n",
       "    <tr>\n",
       "      <th>2</th>\n",
       "      <td>18.0</td>\n",
       "      <td>8</td>\n",
       "      <td>318.0</td>\n",
       "      <td>230.0</td>\n",
       "      <td>3436.0</td>\n",
       "      <td>11.0</td>\n",
       "      <td>70</td>\n",
       "      <td>1</td>\n",
       "      <td>plymouth satellite</td>\n",
       "    </tr>\n",
       "  </tbody>\n",
       "</table>\n",
       "</div>"
      ],
      "text/plain": [
       "    mpg  cylinders  displacement  horsepower  weight  acceleration  \\\n",
       "0  18.0          8         307.0        76.0  3504.0          12.0   \n",
       "1  15.0          8         350.0        77.0  3693.0          11.5   \n",
       "2  18.0          8         318.0       230.0  3436.0          11.0   \n",
       "\n",
       "   model_year  origin                   car_name  \n",
       "0          70       1  chevrolet chevelle malibu  \n",
       "1          70       1          buick skylark 320  \n",
       "2          70       1         plymouth satellite  "
      ]
     },
     "execution_count": 35,
     "metadata": {},
     "output_type": "execute_result"
    }
   ],
   "source": [
    "# horsepower 컬럼의 데이터 => '실수' 타입 object ----> float64\n",
    "# 타입 변경하는 메서드 => DF>astype('새로운타입'),SR.astype(\"새로운타입\")\n",
    "mpgDF.horsepower = mpgDF.horsepower.astype('float64') #인플레이스가 없다.\n",
    "type(mpgDF.horsepower.dtype) \n",
    "mpgDF.head(3)"
   ]
  },
  {
   "cell_type": "code",
   "execution_count": null,
   "metadata": {},
   "outputs": [],
   "source": [
    "#seaborn 시각화 패키지 라이브러리\n",
    "#-시각화 API 실습에 사용될 데이터를 가지고 있음\n",
    "#-이런 데이터를 => dataset\n",
    "#-load_dataset('데이터이름')\n",
    "# 설치 => pip install 패키지명\n",
    "# 쥬피터는 앞에 ! \n",
    "# !pip install seaborn"
   ]
  },
  {
   "cell_type": "code",
   "execution_count": null,
   "metadata": {},
   "outputs": [],
   "source": [
    "import seaborn as sns\n",
    "tipDF = sns.load_dataset('tips')\n",
    "tipDF.info()"
   ]
  },
  {
   "cell_type": "code",
   "execution_count": 72,
   "metadata": {},
   "outputs": [
    {
     "name": "stdout",
     "output_type": "stream",
     "text": [
      "<class 'pandas.core.frame.DataFrame'>\n",
      "RangeIndex: 244 entries, 0 to 243\n",
      "Data columns (total 9 columns):\n",
      " #   Column      Non-Null Count  Dtype   \n",
      "---  ------      --------------  -----   \n",
      " 0   total_bill  244 non-null    float64 \n",
      " 1   tip         244 non-null    float64 \n",
      " 2   sex         244 non-null    object  \n",
      " 3   smoker      244 non-null    category\n",
      " 4   day         244 non-null    category\n",
      " 5   time        244 non-null    category\n",
      " 6   size        244 non-null    int64   \n",
      " 7   newSex      244 non-null    string  \n",
      " 8   sex_str     244 non-null    string  \n",
      "dtypes: category(3), float64(2), int64(1), object(1), string(2)\n",
      "memory usage: 12.7+ KB\n",
      "None\n"
     ]
    }
   ],
   "source": [
    "#컬럼의 자료형 변환 실습\n",
    "#성별 컬럼의 데이터 확인 \n",
    "# tipDF['sex'] 또는\n",
    "# 카테고리 타입을 object타입으로 변경 \n",
    "tipDF.sex\n",
    "# tipDF.sex = tipDF.sex.astype(\"str\")\n",
    "# tipDF.sex\n",
    "\n",
    "#원본에 미적용하고, 컬럼에 추가하고 싶다면? \n",
    "tipDF['sex_str'] = tipDF.sex.astype(\"string\")\n",
    "tipDF['sex_str'] = tipDF.sex.astype(\"string\")\n",
    "print(tipDF.info())\n",
    "# tipDF['sex'].dtype()\n"
   ]
  },
  {
   "cell_type": "code",
   "execution_count": 67,
   "metadata": {},
   "outputs": [],
   "source": [
    "headDF = tipDF.head(10)\n"
   ]
  },
  {
   "cell_type": "code",
   "execution_count": 68,
   "metadata": {},
   "outputs": [
    {
     "data": {
      "text/plain": [
       "(RangeIndex(start=0, stop=10, step=1),\n",
       " Index(['total_bill', 'tip', 'sex', 'smoker', 'day', 'time', 'size', 'newSex',\n",
       "        'sex_str'],\n",
       "       dtype='object'))"
      ]
     },
     "execution_count": 68,
     "metadata": {},
     "output_type": "execute_result"
    }
   ],
   "source": [
    "headDF.index, headDF.columns"
   ]
  },
  {
   "cell_type": "code",
   "execution_count": 71,
   "metadata": {},
   "outputs": [
    {
     "data": {
      "text/plain": [
       "(10.34,\n",
       " 23.68,\n",
       " 3    3.31\n",
       " 0    1.01\n",
       " Name: tip, dtype: float64)"
      ]
     },
     "execution_count": 71,
     "metadata": {},
     "output_type": "execute_result"
    }
   ],
   "source": [
    "# 1,3,5,7 행 데이터만 추출\n",
    "# headDF.loc[[1,3,5,7],'total_bill']='missing'\n",
    "headDF.iloc[1,0],headDF.iloc[3,0],headDF.iloc[[3,0],0]\n",
    "\n",
    "fourDF = headDF.iloc[[1, 3, 5, 7], 0] = 'missing'\n",
    "headDF\n",
    "#astype 에러를 발생시키는 것...\n"
   ]
  },
  {
   "cell_type": "code",
   "execution_count": 82,
   "metadata": {},
   "outputs": [
    {
     "data": {
      "text/plain": [
       "total_bill       A\n",
       "tip           1.01\n",
       "Name: 0, dtype: object"
      ]
     },
     "execution_count": 82,
     "metadata": {},
     "output_type": "execute_result"
    }
   ],
   "source": [
    "# headDF.iloc[0]['total_bill'] = 'missing' SettingWithCopyWarning:\n",
    "# 만약에 값을 바꾼다고하면, 카피를해서 써야한다.\n",
    "# import copy\n",
    "# nums = [1,2,3,4,[\"A\",\"B\"`]]\n",
    "# a = copy.copy(nums)\n",
    "# # a = copy.deepcopy(nums)\n",
    "# a[0] = 10\n",
    "# # a[-1][0] = 100\n",
    "# print(a,nums)\n",
    "#리스트 안에 리스트는 안바뀐다 \n",
    "#이런 현상이 데이터 프레임에도 발생한다.\n",
    "\n",
    "# headDF.iloc[0]['total_bill'] = 'missing' SettingWithCopyWarning\n",
    "tipDF.iloc[0,[0,1]]['total_bill']\n",
    "tipDF.iloc[0,[0,1]]['total_bill'] = 'Good'\n",
    "#값을 바꾸려하고하니까\n",
    "#값을 바꿔지지도 않았는데, 오류가 안뜬다.\n",
    "tipDF.iloc[0,[0,1]]\n",
    "\n",
    "mydata = tipDF.iloc[0,[0,1]].copy()\n",
    "mydata.index, type(mydata), mydata['total_bill']\n",
    "mydata['total_bill'] = \"A\"\n",
    "mydata\n",
    "\n",
    "#슬라이싱을 했을 때, 발생하는 문제,\n",
    "#headDF.iloc[0]['total_bill']이 뷰라서 발생하는 문제인가요?\n"
   ]
  },
  {
   "cell_type": "code",
   "execution_count": 86,
   "metadata": {},
   "outputs": [
    {
     "name": "stdout",
     "output_type": "stream",
     "text": [
      "<class 'pandas.core.frame.DataFrame'>\n",
      "RangeIndex: 398 entries, 0 to 397\n",
      "Data columns (total 9 columns):\n",
      " #   Column        Non-Null Count  Dtype  \n",
      "---  ------        --------------  -----  \n",
      " 0   mpg           398 non-null    float64\n",
      " 1   cylinders     398 non-null    int64  \n",
      " 2   displacement  398 non-null    float64\n",
      " 3   horsepower    398 non-null    float64\n",
      " 4   weight        398 non-null    float64\n",
      " 5   acceleration  398 non-null    float64\n",
      " 6   model_year    398 non-null    int64  \n",
      " 7   origin        398 non-null    int64  \n",
      " 8   car_name      398 non-null    object \n",
      "dtypes: float64(5), int64(3), object(1)\n",
      "memory usage: 28.1+ KB\n"
     ]
    }
   ],
   "source": [
    "#카테고리타입\n",
    "#자료형이 정해져잇을경우에는 차문, int형보다 카테고리 타입이  유리하다 .\n",
    "#orgin을 정수가 아니라, 카테고리 타입으로 두어야지.\n",
    "#잘못해서 계산하는 밠행하는 일이 발생하지 아니한다.\n",
    "\n",
    "# 실린더랑, 오리진 타입체크 int64 > 카테고리 \n",
    "# 타입변경 astype()\n",
    "mpgDF.astype({'cylinders':'category','origin':\"category\"}) #실제로 안바뀌있기 때문에 저장해야한다.\\\\\n",
    "mpgDF.info()"
   ]
  },
  {
   "cell_type": "code",
   "execution_count": null,
   "metadata": {},
   "outputs": [],
   "source": []
  }
 ],
 "metadata": {
  "kernelspec": {
   "display_name": "Python 3",
   "language": "python",
   "name": "python3"
  },
  "language_info": {
   "codemirror_mode": {
    "name": "ipython",
    "version": 3
   },
   "file_extension": ".py",
   "mimetype": "text/x-python",
   "name": "python",
   "nbconvert_exporter": "python",
   "pygments_lexer": "ipython3",
   "version": "3.11.1"
  },
  "orig_nbformat": 4,
  "vscode": {
   "interpreter": {
    "hash": "af96142ae842b0120e39a85872c92ecfe8d087a197ac9d778b7c1d7c710f1acf"
   }
  }
 },
 "nbformat": 4,
 "nbformat_minor": 2
}
